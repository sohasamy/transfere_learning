{
  "nbformat": 4,
  "nbformat_minor": 0,
  "metadata": {
    "kernelspec": {
      "display_name": "Python 3",
      "language": "python",
      "name": "python3"
    },
    "language_info": {
      "codemirror_mode": {
        "name": "ipython",
        "version": 3
      },
      "file_extension": ".py",
      "mimetype": "text/x-python",
      "name": "python",
      "nbconvert_exporter": "python",
      "pygments_lexer": "ipython3",
      "version": "3.6.8"
    },
    "colab": {
      "name": "mobilenet_transfer_learning_keras.ipynb",
      "provenance": [],
      "toc_visible": true
    }
  },
  "cells": [
    {
      "cell_type": "markdown",
      "metadata": {
        "id": "J8W_V9yibABz",
        "colab_type": "text"
      },
      "source": [
        "# Transfer Learning \n",
        "In this file of code, I will use VGG which is trained on Imagenet dataset.\n",
        "<h2>Pretrained VGG</h2>\n",
        "We need to download the VGG model which trained before in a forlder on your training machine. Like the code below. The line for the download is \n",
        "\n",
        "urlretrieve(\n",
        "            'https://s3.amazonaws.com/content.udacity-data.com/nd101/vgg16.npy',\n",
        "            vgg_dir + 'vgg16.npy',\n",
        "            pbar.hook)\n",
        "            \n",
        "the around code are to be sure about the existance of the model file and adding the progress bar for the download"
      ]
    },
    {
      "cell_type": "code",
      "metadata": {
        "id": "VWm2aZYsbAB5",
        "colab_type": "code",
        "outputId": "b0b1bef1-143a-47ad-e81b-f3eb4206ad41",
        "colab": {
          "base_uri": "https://localhost:8080/",
          "height": 54
        }
      },
      "source": [
        "from google.colab import drive\n",
        "drive.mount('/transfer_learning')\n",
        "import os\n",
        "os.chdir(\"/transfer_learning/My Drive/transfer_learning\")\n",
        "from urllib.request import urlretrieve\n",
        "from os.path import isfile, isdir\n",
        "from tqdm import tqdm\n"
      ],
      "execution_count": 18,
      "outputs": [
        {
          "output_type": "stream",
          "text": [
            "Drive already mounted at /transfer_learning; to attempt to forcibly remount, call drive.mount(\"/transfer_learning\", force_remount=True).\n"
          ],
          "name": "stdout"
        }
      ]
    },
    {
      "cell_type": "markdown",
      "metadata": {
        "id": "wnF3xTu2bACJ",
        "colab_type": "text"
      },
      "source": [
        "# Download Dataset\n",
        "We need to download the dataset that we need to work on. Our dataset will be flowers"
      ]
    },
    {
      "cell_type": "code",
      "metadata": {
        "id": "TFancu61bACL",
        "colab_type": "code",
        "colab": {}
      },
      "source": [
        "import tarfile\n",
        "\n",
        "dataset_folder_path = '/transfer_learning/My Drive/transfer_learning/flower_photos'\n",
        "\n",
        "class DLProgress(tqdm):\n",
        "    last_block = 0\n",
        "\n",
        "    def hook(self, block_num=1, block_size=1, total_size=None):\n",
        "        self.total = total_size\n",
        "        self.update((block_num - self.last_block) * block_size)\n",
        "        self.last_block = block_num\n",
        "\n",
        "### download flower data\n",
        "\n",
        "if not isfile('flower_photos.tar.gz'):\n",
        "    with DLProgress(unit='B', unit_scale=True, miniters=1, desc='Flowers Dataset') as pbar:\n",
        "        urlretrieve(\n",
        "            'http://download.tensorflow.org/example_images/flower_photos.tgz',\n",
        "            'flower_photos.tar.gz',\n",
        "            pbar.hook)\n",
        "\n",
        "if not isdir(dataset_folder_path):\n",
        "    with tarfile.open('flower_photos.tar.gz') as tar:\n",
        "        tar.extractall()\n",
        "        tar.close()\n"
      ],
      "execution_count": 0,
      "outputs": []
    },
    {
      "cell_type": "markdown",
      "metadata": {
        "id": "pm1gYGTkbACU",
        "colab_type": "text"
      },
      "source": [
        "# Preparing the data to train and test"
      ]
    },
    {
      "cell_type": "code",
      "metadata": {
        "id": "AWZeHatIbACX",
        "colab_type": "code",
        "outputId": "64f1e26b-74d1-401f-9a21-61c469700edc",
        "colab": {
          "base_uri": "https://localhost:8080/",
          "height": 35
        }
      },
      "source": [
        "from __future__ import absolute_import, division, print_function, unicode_literals\n",
        "\n",
        "import os\n",
        "\n",
        "import tensorflow as tf\n",
        "from tensorflow import keras\n",
        "print(\"TensorFlow version is \", tf.__version__)\n",
        "\n",
        "import numpy as np\n",
        "\n",
        "import matplotlib.pyplot as plt\n",
        "import matplotlib.image as mpimg"
      ],
      "execution_count": 0,
      "outputs": [
        {
          "output_type": "stream",
          "text": [
            "TensorFlow version is  1.14.0\n"
          ],
          "name": "stdout"
        }
      ]
    },
    {
      "cell_type": "code",
      "metadata": {
        "id": "KN8ruK8bbACe",
        "colab_type": "code",
        "colab": {}
      },
      "source": [
        "data_dir = '/transfer_learning/My Drive/transfer_learning/flower_photos/'\n",
        "contents = os.listdir(data_dir)\n",
        "classes = [each for each in contents if os.path.isdir(data_dir + each)]\n"
      ],
      "execution_count": 0,
      "outputs": []
    },
    {
      "cell_type": "code",
      "metadata": {
        "id": "WSixIWs8bACn",
        "colab_type": "code",
        "outputId": "385c4a2f-74bb-4d48-ba1b-07e260bb3ff3",
        "colab": {
          "base_uri": "https://localhost:8080/",
          "height": 109
        }
      },
      "source": [
        "train_dir = os.path.join(data_dir, 'train')\n",
        "test_dir = os.path.join(data_dir, 'test')\n",
        "\n",
        "### adding the directories of all classes in flower for training data\n",
        "train_daisy_dir = os.path.join(train_dir, 'daisy')\n",
        "print ('Total training daisy flower images:', len(os.listdir(train_daisy_dir)))\n",
        "\n",
        "train_dandelion_dir = os.path.join(train_dir, 'dandelion')\n",
        "print ('Total training dandelion flower images:', len(os.listdir(train_dandelion_dir)))\n",
        "\n",
        "train_roses_dir = os.path.join(train_dir, 'roses')\n",
        "print ('Total training roses flower images:', len(os.listdir(train_roses_dir)))\n",
        "\n",
        "train_sunflowers_dir = os.path.join(train_dir, 'sunflowers')\n",
        "print ('Total training sunflowers flower images:', len(os.listdir(train_sunflowers_dir)))\n",
        "\n",
        "train_tulips_dir = os.path.join(train_dir, 'tulips')\n",
        "print ('Total training tulips flower images:', len(os.listdir(train_tulips_dir)))\n",
        "\n",
        "\n"
      ],
      "execution_count": 0,
      "outputs": [
        {
          "output_type": "stream",
          "text": [
            "Total training daisy flower images: 577\n",
            "Total training dandelion flower images: 838\n",
            "Total training roses flower images: 583\n",
            "Total training sunflowers flower images: 642\n",
            "Total training tulips flower images: 747\n"
          ],
          "name": "stdout"
        }
      ]
    },
    {
      "cell_type": "code",
      "metadata": {
        "id": "5aWMbiw-bACw",
        "colab_type": "code",
        "outputId": "c8581911-3b8b-4e60-9cfb-1856f7b20362",
        "colab": {
          "base_uri": "https://localhost:8080/",
          "height": 109
        }
      },
      "source": [
        "### adding the directories of all classes in flower for testing data\n",
        "test_daisy_dir = os.path.join(test_dir, 'daisy')\n",
        "print ('Total test daisy flower images:', len(os.listdir(test_daisy_dir)))\n",
        "\n",
        "test_dandelion_dir = os.path.join(test_dir, 'dandelion')\n",
        "print ('Total test dandelion flower images:', len(os.listdir(test_dandelion_dir)))\n",
        "\n",
        "test_roses_dir = os.path.join(test_dir, 'roses')\n",
        "print ('Total test roses flower images:', len(os.listdir(test_roses_dir)))\n",
        "\n",
        "test_sunflowers_dir = os.path.join(test_dir, 'sunflowers')\n",
        "print ('Total test sunflowers flower images:', len(os.listdir(test_sunflowers_dir)))\n",
        "\n",
        "test_tulips_dir = os.path.join(test_dir, 'tulips')\n",
        "print ('Total test tulips flower images:', len(os.listdir(test_tulips_dir)))"
      ],
      "execution_count": 0,
      "outputs": [
        {
          "output_type": "stream",
          "text": [
            "Total test daisy flower images: 56\n",
            "Total test dandelion flower images: 60\n",
            "Total test roses flower images: 58\n",
            "Total test sunflowers flower images: 57\n",
            "Total test tulips flower images: 60\n"
          ],
          "name": "stdout"
        }
      ]
    },
    {
      "cell_type": "markdown",
      "metadata": {
        "id": "GLP425PJbAC5",
        "colab_type": "text"
      },
      "source": [
        "# Data augmentation"
      ]
    },
    {
      "cell_type": "code",
      "metadata": {
        "id": "bA4BH9sUbAC-",
        "colab_type": "code",
        "outputId": "e7f083ff-7a38-4493-9226-a3db4457e20c",
        "colab": {
          "base_uri": "https://localhost:8080/",
          "height": 54
        }
      },
      "source": [
        "batch_size = 32\n",
        "\n",
        "\n",
        "# making data augmentation to make more variation in the data\n",
        "train_datagen = keras.preprocessing.image.ImageDataGenerator(\n",
        "                rescale=1./255,\n",
        "                featurewise_center=True,\n",
        "                featurewise_std_normalization=True,\n",
        "                rotation_range=20,\n",
        "                width_shift_range=0.2,\n",
        "                height_shift_range=0.2,\n",
        "                horizontal_flip=True)\n",
        "\n",
        "test_datagen = keras.preprocessing.image.ImageDataGenerator(\n",
        "                rescale=1./255,\n",
        "                featurewise_center=True,\n",
        "                featurewise_std_normalization=True,\n",
        "                rotation_range=30,\n",
        "                width_shift_range=0.5,\n",
        "                height_shift_range=0.5,\n",
        "                horizontal_flip=True)\n",
        "\n",
        "# Flow training images in batches of 20 using train_datagen generator\n",
        "train_generator = train_datagen.flow_from_directory(\n",
        "                train_dir,  # Source directory for the training images\n",
        "                target_size=(160, 160), ## this size can be any size suitable for you\n",
        "                batch_size=batch_size,\n",
        "                classes = ['daisy', 'dandelion', 'roses', 'sunflowers', 'tulips'],\n",
        "                # it can be binary if the class are two. If more the mode will be categorical\n",
        "                class_mode='categorical')\n",
        "\n",
        "# Flow test images in batches of 20 using test_datagen generator\n",
        "test_generator = test_datagen.flow_from_directory(\n",
        "                test_dir, # Source directory for the validation images\n",
        "                target_size=(160,160),## this size can be any size suitable for you\n",
        "                batch_size=batch_size,\n",
        "                classes = ['daisy', 'dandelion', 'roses', 'sunflowers', 'tulips'],\n",
        "                # it can be binary if the class are two. If more the mode will be categorical\n",
        "                class_mode='categorical')\n",
        "\n"
      ],
      "execution_count": 0,
      "outputs": [
        {
          "output_type": "stream",
          "text": [
            "Found 3387 images belonging to 5 classes.\n",
            "Found 291 images belonging to 5 classes.\n"
          ],
          "name": "stdout"
        }
      ]
    },
    {
      "cell_type": "markdown",
      "metadata": {
        "id": "IOZ1kDmjbADG",
        "colab_type": "text"
      },
      "source": [
        "# Calling the pretrained model"
      ]
    },
    {
      "cell_type": "code",
      "metadata": {
        "id": "5QGwgpyxbADI",
        "colab_type": "code",
        "outputId": "8dd196d2-b68a-4f96-c85c-7e10cb24ed8e",
        "colab": {
          "base_uri": "https://localhost:8080/",
          "height": 129
        }
      },
      "source": [
        "IMG_SHAPE = (160, 160, 3) ## this must be the same size that we wrote in the previous cell in target_size\n",
        "\n",
        "# Create the xception model\n",
        "mobilenet_model = keras.applications.mobilenet.MobileNet(input_shape=IMG_SHAPE,\n",
        "                                               include_top=False,\n",
        "                                               weights='imagenet',\n",
        "                                              classes=5)\n"
      ],
      "execution_count": 0,
      "outputs": [
        {
          "output_type": "stream",
          "text": [
            "WARNING:tensorflow:From /usr/local/lib/python3.6/dist-packages/tensorflow/python/ops/init_ops.py:1251: calling VarianceScaling.__init__ (from tensorflow.python.ops.init_ops) with dtype is deprecated and will be removed in a future version.\n",
            "Instructions for updating:\n",
            "Call initializer instance with the dtype argument instead of passing it to the constructor\n",
            "Downloading data from https://github.com/fchollet/deep-learning-models/releases/download/v0.6/mobilenet_1_0_160_tf_no_top.h5\n",
            "17227776/17225924 [==============================] - 0s 0us/step\n"
          ],
          "name": "stdout"
        }
      ]
    },
    {
      "cell_type": "code",
      "metadata": {
        "id": "gytX5qrzbADP",
        "colab_type": "code",
        "outputId": "8fb98133-734a-4327-8d26-0fc213c63347",
        "colab": {
          "base_uri": "https://localhost:8080/",
          "height": 1000
        }
      },
      "source": [
        "mobilenet_model.summary()"
      ],
      "execution_count": 0,
      "outputs": [
        {
          "output_type": "stream",
          "text": [
            "Model: \"mobilenet_1.00_160\"\n",
            "_________________________________________________________________\n",
            "Layer (type)                 Output Shape              Param #   \n",
            "=================================================================\n",
            "input_1 (InputLayer)         [(None, 160, 160, 3)]     0         \n",
            "_________________________________________________________________\n",
            "conv1_pad (ZeroPadding2D)    (None, 161, 161, 3)       0         \n",
            "_________________________________________________________________\n",
            "conv1 (Conv2D)               (None, 80, 80, 32)        864       \n",
            "_________________________________________________________________\n",
            "conv1_bn (BatchNormalization (None, 80, 80, 32)        128       \n",
            "_________________________________________________________________\n",
            "conv1_relu (ReLU)            (None, 80, 80, 32)        0         \n",
            "_________________________________________________________________\n",
            "conv_dw_1 (DepthwiseConv2D)  (None, 80, 80, 32)        288       \n",
            "_________________________________________________________________\n",
            "conv_dw_1_bn (BatchNormaliza (None, 80, 80, 32)        128       \n",
            "_________________________________________________________________\n",
            "conv_dw_1_relu (ReLU)        (None, 80, 80, 32)        0         \n",
            "_________________________________________________________________\n",
            "conv_pw_1 (Conv2D)           (None, 80, 80, 64)        2048      \n",
            "_________________________________________________________________\n",
            "conv_pw_1_bn (BatchNormaliza (None, 80, 80, 64)        256       \n",
            "_________________________________________________________________\n",
            "conv_pw_1_relu (ReLU)        (None, 80, 80, 64)        0         \n",
            "_________________________________________________________________\n",
            "conv_pad_2 (ZeroPadding2D)   (None, 81, 81, 64)        0         \n",
            "_________________________________________________________________\n",
            "conv_dw_2 (DepthwiseConv2D)  (None, 40, 40, 64)        576       \n",
            "_________________________________________________________________\n",
            "conv_dw_2_bn (BatchNormaliza (None, 40, 40, 64)        256       \n",
            "_________________________________________________________________\n",
            "conv_dw_2_relu (ReLU)        (None, 40, 40, 64)        0         \n",
            "_________________________________________________________________\n",
            "conv_pw_2 (Conv2D)           (None, 40, 40, 128)       8192      \n",
            "_________________________________________________________________\n",
            "conv_pw_2_bn (BatchNormaliza (None, 40, 40, 128)       512       \n",
            "_________________________________________________________________\n",
            "conv_pw_2_relu (ReLU)        (None, 40, 40, 128)       0         \n",
            "_________________________________________________________________\n",
            "conv_dw_3 (DepthwiseConv2D)  (None, 40, 40, 128)       1152      \n",
            "_________________________________________________________________\n",
            "conv_dw_3_bn (BatchNormaliza (None, 40, 40, 128)       512       \n",
            "_________________________________________________________________\n",
            "conv_dw_3_relu (ReLU)        (None, 40, 40, 128)       0         \n",
            "_________________________________________________________________\n",
            "conv_pw_3 (Conv2D)           (None, 40, 40, 128)       16384     \n",
            "_________________________________________________________________\n",
            "conv_pw_3_bn (BatchNormaliza (None, 40, 40, 128)       512       \n",
            "_________________________________________________________________\n",
            "conv_pw_3_relu (ReLU)        (None, 40, 40, 128)       0         \n",
            "_________________________________________________________________\n",
            "conv_pad_4 (ZeroPadding2D)   (None, 41, 41, 128)       0         \n",
            "_________________________________________________________________\n",
            "conv_dw_4 (DepthwiseConv2D)  (None, 20, 20, 128)       1152      \n",
            "_________________________________________________________________\n",
            "conv_dw_4_bn (BatchNormaliza (None, 20, 20, 128)       512       \n",
            "_________________________________________________________________\n",
            "conv_dw_4_relu (ReLU)        (None, 20, 20, 128)       0         \n",
            "_________________________________________________________________\n",
            "conv_pw_4 (Conv2D)           (None, 20, 20, 256)       32768     \n",
            "_________________________________________________________________\n",
            "conv_pw_4_bn (BatchNormaliza (None, 20, 20, 256)       1024      \n",
            "_________________________________________________________________\n",
            "conv_pw_4_relu (ReLU)        (None, 20, 20, 256)       0         \n",
            "_________________________________________________________________\n",
            "conv_dw_5 (DepthwiseConv2D)  (None, 20, 20, 256)       2304      \n",
            "_________________________________________________________________\n",
            "conv_dw_5_bn (BatchNormaliza (None, 20, 20, 256)       1024      \n",
            "_________________________________________________________________\n",
            "conv_dw_5_relu (ReLU)        (None, 20, 20, 256)       0         \n",
            "_________________________________________________________________\n",
            "conv_pw_5 (Conv2D)           (None, 20, 20, 256)       65536     \n",
            "_________________________________________________________________\n",
            "conv_pw_5_bn (BatchNormaliza (None, 20, 20, 256)       1024      \n",
            "_________________________________________________________________\n",
            "conv_pw_5_relu (ReLU)        (None, 20, 20, 256)       0         \n",
            "_________________________________________________________________\n",
            "conv_pad_6 (ZeroPadding2D)   (None, 21, 21, 256)       0         \n",
            "_________________________________________________________________\n",
            "conv_dw_6 (DepthwiseConv2D)  (None, 10, 10, 256)       2304      \n",
            "_________________________________________________________________\n",
            "conv_dw_6_bn (BatchNormaliza (None, 10, 10, 256)       1024      \n",
            "_________________________________________________________________\n",
            "conv_dw_6_relu (ReLU)        (None, 10, 10, 256)       0         \n",
            "_________________________________________________________________\n",
            "conv_pw_6 (Conv2D)           (None, 10, 10, 512)       131072    \n",
            "_________________________________________________________________\n",
            "conv_pw_6_bn (BatchNormaliza (None, 10, 10, 512)       2048      \n",
            "_________________________________________________________________\n",
            "conv_pw_6_relu (ReLU)        (None, 10, 10, 512)       0         \n",
            "_________________________________________________________________\n",
            "conv_dw_7 (DepthwiseConv2D)  (None, 10, 10, 512)       4608      \n",
            "_________________________________________________________________\n",
            "conv_dw_7_bn (BatchNormaliza (None, 10, 10, 512)       2048      \n",
            "_________________________________________________________________\n",
            "conv_dw_7_relu (ReLU)        (None, 10, 10, 512)       0         \n",
            "_________________________________________________________________\n",
            "conv_pw_7 (Conv2D)           (None, 10, 10, 512)       262144    \n",
            "_________________________________________________________________\n",
            "conv_pw_7_bn (BatchNormaliza (None, 10, 10, 512)       2048      \n",
            "_________________________________________________________________\n",
            "conv_pw_7_relu (ReLU)        (None, 10, 10, 512)       0         \n",
            "_________________________________________________________________\n",
            "conv_dw_8 (DepthwiseConv2D)  (None, 10, 10, 512)       4608      \n",
            "_________________________________________________________________\n",
            "conv_dw_8_bn (BatchNormaliza (None, 10, 10, 512)       2048      \n",
            "_________________________________________________________________\n",
            "conv_dw_8_relu (ReLU)        (None, 10, 10, 512)       0         \n",
            "_________________________________________________________________\n",
            "conv_pw_8 (Conv2D)           (None, 10, 10, 512)       262144    \n",
            "_________________________________________________________________\n",
            "conv_pw_8_bn (BatchNormaliza (None, 10, 10, 512)       2048      \n",
            "_________________________________________________________________\n",
            "conv_pw_8_relu (ReLU)        (None, 10, 10, 512)       0         \n",
            "_________________________________________________________________\n",
            "conv_dw_9 (DepthwiseConv2D)  (None, 10, 10, 512)       4608      \n",
            "_________________________________________________________________\n",
            "conv_dw_9_bn (BatchNormaliza (None, 10, 10, 512)       2048      \n",
            "_________________________________________________________________\n",
            "conv_dw_9_relu (ReLU)        (None, 10, 10, 512)       0         \n",
            "_________________________________________________________________\n",
            "conv_pw_9 (Conv2D)           (None, 10, 10, 512)       262144    \n",
            "_________________________________________________________________\n",
            "conv_pw_9_bn (BatchNormaliza (None, 10, 10, 512)       2048      \n",
            "_________________________________________________________________\n",
            "conv_pw_9_relu (ReLU)        (None, 10, 10, 512)       0         \n",
            "_________________________________________________________________\n",
            "conv_dw_10 (DepthwiseConv2D) (None, 10, 10, 512)       4608      \n",
            "_________________________________________________________________\n",
            "conv_dw_10_bn (BatchNormaliz (None, 10, 10, 512)       2048      \n",
            "_________________________________________________________________\n",
            "conv_dw_10_relu (ReLU)       (None, 10, 10, 512)       0         \n",
            "_________________________________________________________________\n",
            "conv_pw_10 (Conv2D)          (None, 10, 10, 512)       262144    \n",
            "_________________________________________________________________\n",
            "conv_pw_10_bn (BatchNormaliz (None, 10, 10, 512)       2048      \n",
            "_________________________________________________________________\n",
            "conv_pw_10_relu (ReLU)       (None, 10, 10, 512)       0         \n",
            "_________________________________________________________________\n",
            "conv_dw_11 (DepthwiseConv2D) (None, 10, 10, 512)       4608      \n",
            "_________________________________________________________________\n",
            "conv_dw_11_bn (BatchNormaliz (None, 10, 10, 512)       2048      \n",
            "_________________________________________________________________\n",
            "conv_dw_11_relu (ReLU)       (None, 10, 10, 512)       0         \n",
            "_________________________________________________________________\n",
            "conv_pw_11 (Conv2D)          (None, 10, 10, 512)       262144    \n",
            "_________________________________________________________________\n",
            "conv_pw_11_bn (BatchNormaliz (None, 10, 10, 512)       2048      \n",
            "_________________________________________________________________\n",
            "conv_pw_11_relu (ReLU)       (None, 10, 10, 512)       0         \n",
            "_________________________________________________________________\n",
            "conv_pad_12 (ZeroPadding2D)  (None, 11, 11, 512)       0         \n",
            "_________________________________________________________________\n",
            "conv_dw_12 (DepthwiseConv2D) (None, 5, 5, 512)         4608      \n",
            "_________________________________________________________________\n",
            "conv_dw_12_bn (BatchNormaliz (None, 5, 5, 512)         2048      \n",
            "_________________________________________________________________\n",
            "conv_dw_12_relu (ReLU)       (None, 5, 5, 512)         0         \n",
            "_________________________________________________________________\n",
            "conv_pw_12 (Conv2D)          (None, 5, 5, 1024)        524288    \n",
            "_________________________________________________________________\n",
            "conv_pw_12_bn (BatchNormaliz (None, 5, 5, 1024)        4096      \n",
            "_________________________________________________________________\n",
            "conv_pw_12_relu (ReLU)       (None, 5, 5, 1024)        0         \n",
            "_________________________________________________________________\n",
            "conv_dw_13 (DepthwiseConv2D) (None, 5, 5, 1024)        9216      \n",
            "_________________________________________________________________\n",
            "conv_dw_13_bn (BatchNormaliz (None, 5, 5, 1024)        4096      \n",
            "_________________________________________________________________\n",
            "conv_dw_13_relu (ReLU)       (None, 5, 5, 1024)        0         \n",
            "_________________________________________________________________\n",
            "conv_pw_13 (Conv2D)          (None, 5, 5, 1024)        1048576   \n",
            "_________________________________________________________________\n",
            "conv_pw_13_bn (BatchNormaliz (None, 5, 5, 1024)        4096      \n",
            "_________________________________________________________________\n",
            "conv_pw_13_relu (ReLU)       (None, 5, 5, 1024)        0         \n",
            "=================================================================\n",
            "Total params: 3,228,864\n",
            "Trainable params: 3,206,976\n",
            "Non-trainable params: 21,888\n",
            "_________________________________________________________________\n"
          ],
          "name": "stdout"
        }
      ]
    },
    {
      "cell_type": "code",
      "metadata": {
        "id": "AKribFP8bADY",
        "colab_type": "code",
        "colab": {}
      },
      "source": [
        "model = tf.keras.Sequential([\n",
        "  mobilenet_model,\n",
        "  keras.layers.GlobalAveragePooling2D(),\n",
        "  keras.layers.Dense(5, activation='softmax') ## dense shoul have the number of outputs\n",
        "])\n"
      ],
      "execution_count": 0,
      "outputs": []
    },
    {
      "cell_type": "markdown",
      "metadata": {
        "id": "9yY0A82VbADd",
        "colab_type": "text"
      },
      "source": [
        "# Compile the model"
      ]
    },
    {
      "cell_type": "code",
      "metadata": {
        "id": "9zJ346BfbADf",
        "colab_type": "code",
        "colab": {}
      },
      "source": [
        "model.compile(optimizer=tf.keras.optimizers.RMSprop(lr=0.0001),\n",
        "              loss='categorical_crossentropy',\n",
        "              metrics=['accuracy'])\n"
      ],
      "execution_count": 0,
      "outputs": []
    },
    {
      "cell_type": "code",
      "metadata": {
        "id": "i79Bccf5bADl",
        "colab_type": "code",
        "outputId": "fc9a2e9f-55cd-4a6f-ef29-0cb02bc8df83",
        "colab": {
          "base_uri": "https://localhost:8080/",
          "height": 274
        }
      },
      "source": [
        "model.summary()\n"
      ],
      "execution_count": 0,
      "outputs": [
        {
          "output_type": "stream",
          "text": [
            "Model: \"sequential\"\n",
            "_________________________________________________________________\n",
            "Layer (type)                 Output Shape              Param #   \n",
            "=================================================================\n",
            "mobilenet_1.00_160 (Model)   (None, 5, 5, 1024)        3228864   \n",
            "_________________________________________________________________\n",
            "global_average_pooling2d (Gl (None, 1024)              0         \n",
            "_________________________________________________________________\n",
            "dense (Dense)                (None, 5)                 5125      \n",
            "=================================================================\n",
            "Total params: 3,233,989\n",
            "Trainable params: 3,212,101\n",
            "Non-trainable params: 21,888\n",
            "_________________________________________________________________\n"
          ],
          "name": "stdout"
        }
      ]
    },
    {
      "cell_type": "code",
      "metadata": {
        "id": "sv8P9dM_bADq",
        "colab_type": "code",
        "outputId": "9f4e1d12-bf83-442a-d816-763b5e278f21",
        "colab": {
          "base_uri": "https://localhost:8080/",
          "height": 523
        }
      },
      "source": [
        "checkpoint_path = \"transfer_learing.h5\"\n",
        "checkpoint_dir = os.path.dirname(checkpoint_path)\n",
        "\n",
        "# Create checkpoint callback\n",
        "cp_callback = tf.keras.callbacks.ModelCheckpoint(checkpoint_path,\n",
        "                                                 save_weights_only=True,\n",
        "                                                 verbose=1)\n",
        "\n",
        "epochs = 10\n",
        "steps_per_epoch = train_generator.n // batch_size\n",
        "test_steps = test_generator.n // batch_size\n",
        "\n",
        "history = model.fit_generator(train_generator,\n",
        "                              steps_per_epoch = steps_per_epoch,\n",
        "                              epochs=epochs,\n",
        "                              workers=4,\n",
        "                              validation_data=test_generator,\n",
        "                              validation_steps=test_steps)\n"
      ],
      "execution_count": 14,
      "outputs": [
        {
          "output_type": "stream",
          "text": [
            "/usr/local/lib/python3.6/dist-packages/keras_preprocessing/image/image_data_generator.py:716: UserWarning: This ImageDataGenerator specifies `featurewise_center`, but it hasn't been fit on any training data. Fit it first by calling `.fit(numpy_data)`.\n",
            "  warnings.warn('This ImageDataGenerator specifies '\n",
            "/usr/local/lib/python3.6/dist-packages/keras_preprocessing/image/image_data_generator.py:724: UserWarning: This ImageDataGenerator specifies `featurewise_std_normalization`, but it hasn't been fit on any training data. Fit it first by calling `.fit(numpy_data)`.\n",
            "  warnings.warn('This ImageDataGenerator specifies '\n"
          ],
          "name": "stderr"
        },
        {
          "output_type": "stream",
          "text": [
            "Epoch 1/10\n"
          ],
          "name": "stdout"
        },
        {
          "output_type": "stream",
          "text": [
            "/usr/local/lib/python3.6/dist-packages/keras_preprocessing/image/image_data_generator.py:716: UserWarning: This ImageDataGenerator specifies `featurewise_center`, but it hasn't been fit on any training data. Fit it first by calling `.fit(numpy_data)`.\n",
            "  warnings.warn('This ImageDataGenerator specifies '\n",
            "/usr/local/lib/python3.6/dist-packages/keras_preprocessing/image/image_data_generator.py:724: UserWarning: This ImageDataGenerator specifies `featurewise_std_normalization`, but it hasn't been fit on any training data. Fit it first by calling `.fit(numpy_data)`.\n",
            "  warnings.warn('This ImageDataGenerator specifies '\n"
          ],
          "name": "stderr"
        },
        {
          "output_type": "stream",
          "text": [
            "105/105 [==============================] - 559s 5s/step - loss: 0.5745 - acc: 0.7949 - val_loss: 1.0735 - val_acc: 0.6285\n",
            "Epoch 2/10\n",
            "105/105 [==============================] - 507s 5s/step - loss: 0.2676 - acc: 0.9103 - val_loss: 0.5288 - val_acc: 0.8090\n",
            "Epoch 3/10\n",
            "105/105 [==============================] - 501s 5s/step - loss: 0.1779 - acc: 0.9380 - val_loss: 0.5375 - val_acc: 0.8160\n",
            "Epoch 4/10\n",
            "105/105 [==============================] - 505s 5s/step - loss: 0.1230 - acc: 0.9580 - val_loss: 0.4936 - val_acc: 0.8160\n",
            "Epoch 5/10\n",
            "105/105 [==============================] - 505s 5s/step - loss: 0.0940 - acc: 0.9621 - val_loss: 0.3864 - val_acc: 0.8715\n",
            "Epoch 6/10\n",
            "105/105 [==============================] - 505s 5s/step - loss: 0.0614 - acc: 0.9830 - val_loss: 0.3974 - val_acc: 0.8854\n",
            "Epoch 7/10\n",
            "105/105 [==============================] - 506s 5s/step - loss: 0.0629 - acc: 0.9776 - val_loss: 0.4113 - val_acc: 0.8438\n",
            "Epoch 8/10\n",
            "105/105 [==============================] - 508s 5s/step - loss: 0.0364 - acc: 0.9872 - val_loss: 0.3186 - val_acc: 0.8924\n",
            "Epoch 9/10\n",
            "105/105 [==============================] - 504s 5s/step - loss: 0.0449 - acc: 0.9866 - val_loss: 0.3434 - val_acc: 0.8854\n",
            "Epoch 10/10\n",
            "105/105 [==============================] - 512s 5s/step - loss: 0.0338 - acc: 0.9884 - val_loss: 0.4702 - val_acc: 0.8368\n"
          ],
          "name": "stdout"
        }
      ]
    },
    {
      "cell_type": "code",
      "metadata": {
        "id": "x2r-KIGmbADx",
        "colab_type": "code",
        "colab": {}
      },
      "source": [
        "# saving models\n",
        "\n",
        "# save as JSON\n",
        "json_string = model.to_json()\n",
        "\n",
        "# save as YAML\n",
        "yaml_string = model.to_yaml()\n",
        "\n",
        "## saving weights\n",
        "model.save_weights('transfer_learning.h5')"
      ],
      "execution_count": 0,
      "outputs": []
    },
    {
      "cell_type": "code",
      "metadata": {
        "id": "Ve_OuGFePSj3",
        "colab_type": "code",
        "colab": {
          "base_uri": "https://localhost:8080/",
          "height": 499
        },
        "outputId": "b9edab0d-2064-446f-ad62-c3ca7cf2be52"
      },
      "source": [
        "# draw statistics for the model\n",
        "\n",
        "acc = history.history['acc']\n",
        "val_acc = history.history['val_acc']\n",
        "\n",
        "loss = history.history['loss']\n",
        "val_loss = history.history['val_loss']\n",
        "\n",
        "plt.figure(figsize=(8, 8))\n",
        "plt.subplot(2, 1, 1)\n",
        "plt.plot(acc, label='Training Accuracy')\n",
        "plt.plot(val_acc, label='Validation Accuracy')\n",
        "plt.legend(loc='lower right')\n",
        "plt.ylabel('Accuracy')\n",
        "plt.ylim([min(plt.ylim()),1])\n",
        "plt.title('Training and Validation Accuracy')\n",
        "\n",
        "plt.subplot(2, 1, 2)\n",
        "plt.plot(loss, label='Training Loss')\n",
        "plt.plot(val_loss, label='Validation Loss')\n",
        "plt.legend(loc='upper right')\n",
        "plt.ylabel('Cross Entropy')\n",
        "plt.ylim([0,max(plt.ylim())])\n",
        "plt.title('Training and Validation Loss')\n",
        "plt.show()\n"
      ],
      "execution_count": 17,
      "outputs": [
        {
          "output_type": "display_data",
          "data": {
            "image/png": "[encoded data removed]",
            "text/plain": [
              "<Figure size 576x576 with 2 Axes>"
            ]
          },
          "metadata": {
            "tags": []
          }
        }
      ]
    }
  ]
}